{
 "cells": [
  {
   "cell_type": "code",
   "execution_count": 23,
   "metadata": {},
   "outputs": [],
   "source": [
    "import json\n",
    "import pandas as pd"
   ]
  },
  {
   "cell_type": "code",
   "execution_count": 39,
   "metadata": {
    "scrolled": false
   },
   "outputs": [],
   "source": [
    "#Q1 Find the 10 countries with most projects\n",
    "\n",
    "# load json as string\n",
    "world_data = json.load((open('world_bank_projects.json')))\n"
   ]
  },
  {
   "cell_type": "code",
   "execution_count": 40,
   "metadata": {},
   "outputs": [],
   "source": [
    "# load as Pandas dataframe\n",
    "world_data_df = pd.read_json('world_bank_projects.json')"
   ]
  },
  {
   "cell_type": "code",
   "execution_count": 42,
   "metadata": {},
   "outputs": [
    {
     "data": {
      "text/html": [
       "<div>\n",
       "<style scoped>\n",
       "    .dataframe tbody tr th:only-of-type {\n",
       "        vertical-align: middle;\n",
       "    }\n",
       "\n",
       "    .dataframe tbody tr th {\n",
       "        vertical-align: top;\n",
       "    }\n",
       "\n",
       "    .dataframe thead th {\n",
       "        text-align: right;\n",
       "    }\n",
       "</style>\n",
       "<table border=\"1\" class=\"dataframe\">\n",
       "  <thead>\n",
       "    <tr style=\"text-align: right;\">\n",
       "      <th></th>\n",
       "      <th>countryname</th>\n",
       "      <th>project_name</th>\n",
       "    </tr>\n",
       "  </thead>\n",
       "  <tbody>\n",
       "    <tr>\n",
       "      <th>0</th>\n",
       "      <td>Federal Democratic Republic of Ethiopia</td>\n",
       "      <td>Ethiopia General Education Quality Improvement...</td>\n",
       "    </tr>\n",
       "    <tr>\n",
       "      <th>1</th>\n",
       "      <td>Republic of Tunisia</td>\n",
       "      <td>TN: DTF Social Protection Reforms Support</td>\n",
       "    </tr>\n",
       "    <tr>\n",
       "      <th>2</th>\n",
       "      <td>Tuvalu</td>\n",
       "      <td>Tuvalu Aviation Investment Project - Additiona...</td>\n",
       "    </tr>\n",
       "    <tr>\n",
       "      <th>3</th>\n",
       "      <td>Republic of Yemen</td>\n",
       "      <td>Gov't and Civil Society Organization Partnership</td>\n",
       "    </tr>\n",
       "    <tr>\n",
       "      <th>4</th>\n",
       "      <td>Kingdom of Lesotho</td>\n",
       "      <td>Second Private Sector Competitiveness and Econ...</td>\n",
       "    </tr>\n",
       "    <tr>\n",
       "      <th>5</th>\n",
       "      <td>Republic of Kenya</td>\n",
       "      <td>Additional Financing for Cash Transfers for Or...</td>\n",
       "    </tr>\n",
       "    <tr>\n",
       "      <th>6</th>\n",
       "      <td>Republic of India</td>\n",
       "      <td>National Highways Interconnectivity Improvemen...</td>\n",
       "    </tr>\n",
       "    <tr>\n",
       "      <th>7</th>\n",
       "      <td>People's Republic of China</td>\n",
       "      <td>China Renewable Energy Scale-Up Program Phase II</td>\n",
       "    </tr>\n",
       "    <tr>\n",
       "      <th>8</th>\n",
       "      <td>Republic of India</td>\n",
       "      <td>Rajasthan Road Sector Modernization Project</td>\n",
       "    </tr>\n",
       "    <tr>\n",
       "      <th>9</th>\n",
       "      <td>Kingdom of Morocco</td>\n",
       "      <td>MA Accountability and Transparency DPL</td>\n",
       "    </tr>\n",
       "  </tbody>\n",
       "</table>\n",
       "</div>"
      ],
      "text/plain": [
       "                               countryname  \\\n",
       "0  Federal Democratic Republic of Ethiopia   \n",
       "1                      Republic of Tunisia   \n",
       "2                                   Tuvalu   \n",
       "3                        Republic of Yemen   \n",
       "4                       Kingdom of Lesotho   \n",
       "5                        Republic of Kenya   \n",
       "6                        Republic of India   \n",
       "7               People's Republic of China   \n",
       "8                        Republic of India   \n",
       "9                       Kingdom of Morocco   \n",
       "\n",
       "                                        project_name  \n",
       "0  Ethiopia General Education Quality Improvement...  \n",
       "1          TN: DTF Social Protection Reforms Support  \n",
       "2  Tuvalu Aviation Investment Project - Additiona...  \n",
       "3   Gov't and Civil Society Organization Partnership  \n",
       "4  Second Private Sector Competitiveness and Econ...  \n",
       "5  Additional Financing for Cash Transfers for Or...  \n",
       "6  National Highways Interconnectivity Improvemen...  \n",
       "7   China Renewable Energy Scale-Up Program Phase II  \n",
       "8        Rajasthan Road Sector Modernization Project  \n",
       "9             MA Accountability and Transparency DPL  "
      ]
     },
     "execution_count": 42,
     "metadata": {},
     "output_type": "execute_result"
    }
   ],
   "source": [
    "# Look at countries and projects columns\n",
    "country_project_data = world_data_df[['countryname','project_name']]\n",
    "country_project_data.head(10)"
   ]
  },
  {
   "cell_type": "code",
   "execution_count": 44,
   "metadata": {},
   "outputs": [],
   "source": [
    "# Group by countries\n",
    "country_project_data_grp = country_project_data.groupby(\"countryname\")"
   ]
  },
  {
   "cell_type": "code",
   "execution_count": 43,
   "metadata": {},
   "outputs": [
    {
     "data": {
      "text/plain": [
       "countryname\n",
       "People's Republic of China                  19\n",
       "Republic of Indonesia                       19\n",
       "Socialist Republic of Vietnam               17\n",
       "Republic of India                           16\n",
       "Republic of Yemen                           13\n",
       "Nepal                                       12\n",
       "People's Republic of Bangladesh             12\n",
       "Kingdom of Morocco                          12\n",
       "Africa                                      11\n",
       "Republic of Mozambique                      11\n",
       "Burkina Faso                                 9\n",
       "Federative Republic of Brazil                9\n",
       "Islamic Republic of Pakistan                 9\n",
       "United Republic of Tanzania                  8\n",
       "Republic of Tajikistan                       8\n",
       "Republic of Armenia                          8\n",
       "Kyrgyz Republic                              7\n",
       "Lao People's Democratic Republic             7\n",
       "Hashemite Kingdom of Jordan                  7\n",
       "Federal Republic of Nigeria                  7\n",
       "Republic of Nicaragua                        6\n",
       "West Bank and Gaza                           6\n",
       "Republic of Kenya                            6\n",
       "Islamic State of Afghanistan                 6\n",
       "Republic of Peru                             6\n",
       "Democratic Republic of the Congo             6\n",
       "Republic of Niger                            5\n",
       "Republic of Moldova                          5\n",
       "Republic of Honduras                         5\n",
       "Republic of Haiti                            5\n",
       "                                            ..\n",
       "Republic of Seychelles                       2\n",
       "Plurinational State of Bolivia               2\n",
       "Republic of Sierra Leone                     2\n",
       "Republic of Ecuador                          2\n",
       "Argentine Republic                           2\n",
       "Republic of Cameroon                         2\n",
       "Arab Republic of Egypt                       2\n",
       "Tuvalu                                       1\n",
       "Antigua and Barbuda                          1\n",
       "Central African Republic                     1\n",
       "Europe and Central Asia                      1\n",
       "Democratic Socialist Republic of Sri Lan     1\n",
       "Bosnia and Herzegovina                       1\n",
       "East Asia and Pacific                        1\n",
       "Republic of Chile                            1\n",
       "Republic of Kiribati                         1\n",
       "Republic of Namibia                          1\n",
       "Romania                                      1\n",
       "Republic of Panama                           1\n",
       "Republic of Chad                             1\n",
       "Kingdom of Thailand                          1\n",
       "Kingdom of Tonga                             1\n",
       "Republic of Serbia                           1\n",
       "Republic of Zimbabwe                         1\n",
       "People's Republic of Angola                  1\n",
       "Republic of Costa Rica                       1\n",
       "Republic of Congo                            1\n",
       "Republic of Belarus                          1\n",
       "Republic of Cape Verde                       1\n",
       "Republic of Poland                           1\n",
       "Length: 118, dtype: int64"
      ]
     },
     "execution_count": 43,
     "metadata": {},
     "output_type": "execute_result"
    }
   ],
   "source": [
    "# Get the count of projects per country in descending order\n",
    "top_countries_with_projects = country_project_data_grp.size().sort_values(ascending=False)\n",
    "top_countries_with_projects"
   ]
  },
  {
   "cell_type": "code",
   "execution_count": 38,
   "metadata": {},
   "outputs": [
    {
     "data": {
      "text/plain": [
       "countryname\n",
       "People's Republic of China         19\n",
       "Republic of Indonesia              19\n",
       "Socialist Republic of Vietnam      17\n",
       "Republic of India                  16\n",
       "Republic of Yemen                  13\n",
       "Nepal                              12\n",
       "People's Republic of Bangladesh    12\n",
       "Kingdom of Morocco                 12\n",
       "Africa                             11\n",
       "Republic of Mozambique             11\n",
       "dtype: int64"
      ]
     },
     "execution_count": 38,
     "metadata": {},
     "output_type": "execute_result"
    }
   ],
   "source": [
    "#10 countries with most projects\n",
    "top_countries_with_projects.head(10)"
   ]
  },
  {
   "cell_type": "code",
   "execution_count": null,
   "metadata": {},
   "outputs": [],
   "source": []
  }
 ],
 "metadata": {
  "kernelspec": {
   "display_name": "Python 3",
   "language": "python",
   "name": "python3"
  },
  "language_info": {
   "codemirror_mode": {
    "name": "ipython",
    "version": 3
   },
   "file_extension": ".py",
   "mimetype": "text/x-python",
   "name": "python",
   "nbconvert_exporter": "python",
   "pygments_lexer": "ipython3",
   "version": "3.6.4"
  }
 },
 "nbformat": 4,
 "nbformat_minor": 2
}
